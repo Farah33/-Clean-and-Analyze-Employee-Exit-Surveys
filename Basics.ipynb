{
 "cells": [
  {
   "cell_type": "markdown",
   "metadata": {
    "collapsed": true
   },
   "source": [
    "# Clean and Analyze Employee Exit Surveys"
   ]
  },
  {
   "cell_type": "markdown",
   "metadata": {},
   "source": [
    "#### INTRODUCTION\n",
    "In this project, we will analyze exit surveys conducted by the Department of Education, Training and Employment (DETE) and the Technical and Further Education (TAFE) institute in Queensland, Australia. Our goal is to explore patterns and correlations related to employee resignations. By cleaning and combining the exit survey data, we aim to address specific questions:\n",
    "\n",
    "Are short-tenured employees resigning due to dissatisfaction compared to longer-tenured ones?\n",
    "Is there a connection between age and employee dissatisfaction?\n",
    "We'll apply data cleaning techniques, handle missing values, and reshape the data for analysis. The project involves comparing exit reasons, employment durations, and age groups to uncover insights into employee turnover and satisfaction."
   ]
  },
  {
   "cell_type": "code",
   "execution_count": 26,
   "metadata": {},
   "outputs": [
    {
     "name": "stdout",
     "output_type": "stream",
     "text": [
      "<class 'pandas.core.frame.DataFrame'>\n",
      "RangeIndex: 822 entries, 0 to 821\n",
      "Data columns (total 56 columns):\n",
      " #   Column                               Non-Null Count  Dtype \n",
      "---  ------                               --------------  ----- \n",
      " 0   ID                                   822 non-null    int64 \n",
      " 1   SeparationType                       822 non-null    object\n",
      " 2   Cease Date                           822 non-null    object\n",
      " 3   DETE Start Date                      822 non-null    object\n",
      " 4   Role Start Date                      822 non-null    object\n",
      " 5   Position                             817 non-null    object\n",
      " 6   Classification                       455 non-null    object\n",
      " 7   Region                               822 non-null    object\n",
      " 8   Business Unit                        126 non-null    object\n",
      " 9   Employment Status                    817 non-null    object\n",
      " 10  Career move to public sector         822 non-null    bool  \n",
      " 11  Career move to private sector        822 non-null    bool  \n",
      " 12  Interpersonal conflicts              822 non-null    bool  \n",
      " 13  Job dissatisfaction                  822 non-null    bool  \n",
      " 14  Dissatisfaction with the department  822 non-null    bool  \n",
      " 15  Physical work environment            822 non-null    bool  \n",
      " 16  Lack of recognition                  822 non-null    bool  \n",
      " 17  Lack of job security                 822 non-null    bool  \n",
      " 18  Work location                        822 non-null    bool  \n",
      " 19  Employment conditions                822 non-null    bool  \n",
      " 20  Maternity/family                     822 non-null    bool  \n",
      " 21  Relocation                           822 non-null    bool  \n",
      " 22  Study/Travel                         822 non-null    bool  \n",
      " 23  Ill Health                           822 non-null    bool  \n",
      " 24  Traumatic incident                   822 non-null    bool  \n",
      " 25  Work life balance                    822 non-null    bool  \n",
      " 26  Workload                             822 non-null    bool  \n",
      " 27  None of the above                    822 non-null    bool  \n",
      " 28  Professional Development             808 non-null    object\n",
      " 29  Opportunities for promotion          735 non-null    object\n",
      " 30  Staff morale                         816 non-null    object\n",
      " 31  Workplace issue                      788 non-null    object\n",
      " 32  Physical environment                 817 non-null    object\n",
      " 33  Worklife balance                     815 non-null    object\n",
      " 34  Stress and pressure support          810 non-null    object\n",
      " 35  Performance of supervisor            813 non-null    object\n",
      " 36  Peer support                         812 non-null    object\n",
      " 37  Initiative                           813 non-null    object\n",
      " 38  Skills                               811 non-null    object\n",
      " 39  Coach                                767 non-null    object\n",
      " 40  Career Aspirations                   746 non-null    object\n",
      " 41  Feedback                             792 non-null    object\n",
      " 42  Further PD                           768 non-null    object\n",
      " 43  Communication                        814 non-null    object\n",
      " 44  My say                               812 non-null    object\n",
      " 45  Information                          816 non-null    object\n",
      " 46  Kept informed                        813 non-null    object\n",
      " 47  Wellness programs                    766 non-null    object\n",
      " 48  Health & Safety                      793 non-null    object\n",
      " 49  Gender                               798 non-null    object\n",
      " 50  Age                                  811 non-null    object\n",
      " 51  Aboriginal                           16 non-null     object\n",
      " 52  Torres Strait                        3 non-null      object\n",
      " 53  South Sea                            7 non-null      object\n",
      " 54  Disability                           23 non-null     object\n",
      " 55  NESB                                 32 non-null     object\n",
      "dtypes: bool(18), int64(1), object(37)\n",
      "memory usage: 258.6+ KB\n",
      "<class 'pandas.core.frame.DataFrame'>\n",
      "RangeIndex: 702 entries, 0 to 701\n",
      "Data columns (total 72 columns):\n",
      " #   Column                                                                                                                                                         Non-Null Count  Dtype  \n",
      "---  ------                                                                                                                                                         --------------  -----  \n",
      " 0   Record ID                                                                                                                                                      702 non-null    float64\n",
      " 1   Institute                                                                                                                                                      702 non-null    object \n",
      " 2   WorkArea                                                                                                                                                       702 non-null    object \n",
      " 3   CESSATION YEAR                                                                                                                                                 695 non-null    float64\n",
      " 4   Reason for ceasing employment                                                                                                                                  701 non-null    object \n",
      " 5   Contributing Factors. Career Move - Public Sector                                                                                                              437 non-null    object \n",
      " 6   Contributing Factors. Career Move - Private Sector                                                                                                             437 non-null    object \n",
      " 7   Contributing Factors. Career Move - Self-employment                                                                                                            437 non-null    object \n",
      " 8   Contributing Factors. Ill Health                                                                                                                               437 non-null    object \n",
      " 9   Contributing Factors. Maternity/Family                                                                                                                         437 non-null    object \n",
      " 10  Contributing Factors. Dissatisfaction                                                                                                                          437 non-null    object \n",
      " 11  Contributing Factors. Job Dissatisfaction                                                                                                                      437 non-null    object \n",
      " 12  Contributing Factors. Interpersonal Conflict                                                                                                                   437 non-null    object \n",
      " 13  Contributing Factors. Study                                                                                                                                    437 non-null    object \n",
      " 14  Contributing Factors. Travel                                                                                                                                   437 non-null    object \n",
      " 15  Contributing Factors. Other                                                                                                                                    437 non-null    object \n",
      " 16  Contributing Factors. NONE                                                                                                                                     437 non-null    object \n",
      " 17  Main Factor. Which of these was the main factor for leaving?                                                                                                   113 non-null    object \n",
      " 18  InstituteViews. Topic:1. I feel the senior leadership had a clear vision and direction                                                                         608 non-null    object \n",
      " 19  InstituteViews. Topic:2. I was given access to skills training to help me do my job better                                                                     613 non-null    object \n",
      " 20  InstituteViews. Topic:3. I was given adequate opportunities for personal development                                                                           610 non-null    object \n",
      " 21  InstituteViews. Topic:4. I was given adequate opportunities for promotion within %Institute]Q25LBL%                                                            608 non-null    object \n",
      " 22  InstituteViews. Topic:5. I felt the salary for the job was right for the responsibilities I had                                                                615 non-null    object \n",
      " 23  InstituteViews. Topic:6. The organisation recognised when staff did good work                                                                                  607 non-null    object \n",
      " 24  InstituteViews. Topic:7. Management was generally supportive of me                                                                                             614 non-null    object \n",
      " 25  InstituteViews. Topic:8. Management was generally supportive of my team                                                                                        608 non-null    object \n",
      " 26  InstituteViews. Topic:9. I was kept informed of the changes in the organisation which would affect me                                                          610 non-null    object \n",
      " 27  InstituteViews. Topic:10. Staff morale was positive within the Institute                                                                                       602 non-null    object \n",
      " 28  InstituteViews. Topic:11. If I had a workplace issue it was dealt with quickly                                                                                 601 non-null    object \n",
      " 29  InstituteViews. Topic:12. If I had a workplace issue it was dealt with efficiently                                                                             597 non-null    object \n",
      " 30  InstituteViews. Topic:13. If I had a workplace issue it was dealt with discreetly                                                                              601 non-null    object \n",
      " 31  WorkUnitViews. Topic:14. I was satisfied with the quality of the management and supervision within my work unit                                                609 non-null    object \n",
      " 32  WorkUnitViews. Topic:15. I worked well with my colleagues                                                                                                      605 non-null    object \n",
      " 33  WorkUnitViews. Topic:16. My job was challenging and interesting                                                                                                607 non-null    object \n",
      " 34  WorkUnitViews. Topic:17. I was encouraged to use my initiative in the course of my work                                                                        610 non-null    object \n",
      " 35  WorkUnitViews. Topic:18. I had sufficient contact with other people in my job                                                                                  613 non-null    object \n",
      " 36  WorkUnitViews. Topic:19. I was given adequate support and co-operation by my peers to enable me to do my job                                                   609 non-null    object \n",
      " 37  WorkUnitViews. Topic:20. I was able to use the full range of my skills in my job                                                                               609 non-null    object \n",
      " 38  WorkUnitViews. Topic:21. I was able to use the full range of my abilities in my job. ; Category:Level of Agreement; Question:YOUR VIEWS ABOUT YOUR WORK UNIT]  608 non-null    object \n",
      " 39  WorkUnitViews. Topic:22. I was able to use the full range of my knowledge in my job                                                                            608 non-null    object \n",
      " 40  WorkUnitViews. Topic:23. My job provided sufficient variety                                                                                                    611 non-null    object \n",
      " 41  WorkUnitViews. Topic:24. I was able to cope with the level of stress and pressure in my job                                                                    610 non-null    object \n",
      " 42  WorkUnitViews. Topic:25. My job allowed me to balance the demands of work and family to my satisfaction                                                        611 non-null    object \n",
      " 43  WorkUnitViews. Topic:26. My supervisor gave me adequate personal recognition and feedback on my performance                                                    606 non-null    object \n",
      " 44  WorkUnitViews. Topic:27. My working environment was satisfactory e.g. sufficient space, good lighting, suitable seating and working area                       610 non-null    object \n",
      " 45  WorkUnitViews. Topic:28. I was given the opportunity to mentor and coach others in order for me to pass on my skills and knowledge prior to my cessation date  609 non-null    object \n",
      " 46  WorkUnitViews. Topic:29. There was adequate communication between staff in my unit                                                                             603 non-null    object \n",
      " 47  WorkUnitViews. Topic:30. Staff morale was positive within my work unit                                                                                         606 non-null    object \n",
      " 48  Induction. Did you undertake Workplace Induction?                                                                                                              619 non-null    object \n",
      " 49  InductionInfo. Topic:Did you undertake a Corporate Induction?                                                                                                  432 non-null    object \n",
      " 50  InductionInfo. Topic:Did you undertake a Institute Induction?                                                                                                  483 non-null    object \n",
      " 51  InductionInfo. Topic: Did you undertake Team Induction?                                                                                                        440 non-null    object \n",
      " 52  InductionInfo. Face to Face Topic:Did you undertake a Corporate Induction; Category:How it was conducted?                                                      555 non-null    object \n",
      " 53  InductionInfo. On-line Topic:Did you undertake a Corporate Induction; Category:How it was conducted?                                                           555 non-null    object \n",
      " 54  InductionInfo. Induction Manual Topic:Did you undertake a Corporate Induction?                                                                                 555 non-null    object \n",
      " 55  InductionInfo. Face to Face Topic:Did you undertake a Institute Induction?                                                                                     530 non-null    object \n",
      " 56  InductionInfo. On-line Topic:Did you undertake a Institute Induction?                                                                                          555 non-null    object \n",
      " 57  InductionInfo. Induction Manual Topic:Did you undertake a Institute Induction?                                                                                 553 non-null    object \n",
      " 58  InductionInfo. Face to Face Topic: Did you undertake Team Induction; Category?                                                                                 555 non-null    object \n",
      " 59  InductionInfo. On-line Topic: Did you undertake Team Induction?process you undertook and how it was conducted.]                                                555 non-null    object \n",
      " 60  InductionInfo. Induction Manual Topic: Did you undertake Team Induction?                                                                                       555 non-null    object \n",
      " 61  Workplace. Topic:Did you and your Manager develop a Performance and Professional Development Plan (PPDP)?                                                      608 non-null    object \n",
      " 62  Workplace. Topic:Does your workplace promote a work culture free from all forms of unlawful discrimination?                                                    594 non-null    object \n",
      " 63  Workplace. Topic:Does your workplace promote and practice the principles of employment equity?                                                                 587 non-null    object \n",
      " 64  Workplace. Topic:Does your workplace value the diversity of its employees?                                                                                     586 non-null    object \n",
      " 65  Workplace. Topic:Would you recommend the Institute as an employer to others?                                                                                   581 non-null    object \n",
      " 66  Gender. What is your Gender?                                                                                                                                   596 non-null    object \n",
      " 67  CurrentAge. Current Age                                                                                                                                        596 non-null    object \n",
      " 68  Employment Type. Employment Type                                                                                                                               596 non-null    object \n",
      " 69  Classification. Classification                                                                                                                                 596 non-null    object \n",
      " 70  LengthofServiceOverall. Overall Length of Service at Institute (in years)                                                                                      596 non-null    object \n",
      " 71  LengthofServiceCurrent. Length of Service at current workplace (in years)                                                                                      596 non-null    object \n",
      "dtypes: float64(2), object(70)\n",
      "memory usage: 395.0+ KB\n"
     ]
    },
    {
     "data": {
      "text/html": [
       "<div>\n",
       "<style scoped>\n",
       "    .dataframe tbody tr th:only-of-type {\n",
       "        vertical-align: middle;\n",
       "    }\n",
       "\n",
       "    .dataframe tbody tr th {\n",
       "        vertical-align: top;\n",
       "    }\n",
       "\n",
       "    .dataframe thead th {\n",
       "        text-align: right;\n",
       "    }\n",
       "</style>\n",
       "<table border=\"1\" class=\"dataframe\">\n",
       "  <thead>\n",
       "    <tr style=\"text-align: right;\">\n",
       "      <th></th>\n",
       "      <th>Record ID</th>\n",
       "      <th>Institute</th>\n",
       "      <th>WorkArea</th>\n",
       "      <th>CESSATION YEAR</th>\n",
       "      <th>Reason for ceasing employment</th>\n",
       "      <th>Contributing Factors. Career Move - Public Sector</th>\n",
       "      <th>Contributing Factors. Career Move - Private Sector</th>\n",
       "      <th>Contributing Factors. Career Move - Self-employment</th>\n",
       "      <th>Contributing Factors. Ill Health</th>\n",
       "      <th>Contributing Factors. Maternity/Family</th>\n",
       "      <th>...</th>\n",
       "      <th>Workplace. Topic:Does your workplace promote a work culture free from all forms of unlawful discrimination?</th>\n",
       "      <th>Workplace. Topic:Does your workplace promote and practice the principles of employment equity?</th>\n",
       "      <th>Workplace. Topic:Does your workplace value the diversity of its employees?</th>\n",
       "      <th>Workplace. Topic:Would you recommend the Institute as an employer to others?</th>\n",
       "      <th>Gender. What is your Gender?</th>\n",
       "      <th>CurrentAge. Current Age</th>\n",
       "      <th>Employment Type. Employment Type</th>\n",
       "      <th>Classification. Classification</th>\n",
       "      <th>LengthofServiceOverall. Overall Length of Service at Institute (in years)</th>\n",
       "      <th>LengthofServiceCurrent. Length of Service at current workplace (in years)</th>\n",
       "    </tr>\n",
       "  </thead>\n",
       "  <tbody>\n",
       "    <tr>\n",
       "      <th>0</th>\n",
       "      <td>False</td>\n",
       "      <td>False</td>\n",
       "      <td>False</td>\n",
       "      <td>False</td>\n",
       "      <td>False</td>\n",
       "      <td>True</td>\n",
       "      <td>True</td>\n",
       "      <td>True</td>\n",
       "      <td>True</td>\n",
       "      <td>True</td>\n",
       "      <td>...</td>\n",
       "      <td>False</td>\n",
       "      <td>False</td>\n",
       "      <td>False</td>\n",
       "      <td>False</td>\n",
       "      <td>False</td>\n",
       "      <td>False</td>\n",
       "      <td>False</td>\n",
       "      <td>False</td>\n",
       "      <td>False</td>\n",
       "      <td>False</td>\n",
       "    </tr>\n",
       "    <tr>\n",
       "      <th>1</th>\n",
       "      <td>False</td>\n",
       "      <td>False</td>\n",
       "      <td>False</td>\n",
       "      <td>False</td>\n",
       "      <td>False</td>\n",
       "      <td>False</td>\n",
       "      <td>False</td>\n",
       "      <td>False</td>\n",
       "      <td>False</td>\n",
       "      <td>False</td>\n",
       "      <td>...</td>\n",
       "      <td>False</td>\n",
       "      <td>False</td>\n",
       "      <td>False</td>\n",
       "      <td>False</td>\n",
       "      <td>True</td>\n",
       "      <td>True</td>\n",
       "      <td>True</td>\n",
       "      <td>True</td>\n",
       "      <td>True</td>\n",
       "      <td>True</td>\n",
       "    </tr>\n",
       "    <tr>\n",
       "      <th>2</th>\n",
       "      <td>False</td>\n",
       "      <td>False</td>\n",
       "      <td>False</td>\n",
       "      <td>False</td>\n",
       "      <td>False</td>\n",
       "      <td>False</td>\n",
       "      <td>False</td>\n",
       "      <td>False</td>\n",
       "      <td>False</td>\n",
       "      <td>False</td>\n",
       "      <td>...</td>\n",
       "      <td>False</td>\n",
       "      <td>False</td>\n",
       "      <td>False</td>\n",
       "      <td>False</td>\n",
       "      <td>True</td>\n",
       "      <td>True</td>\n",
       "      <td>True</td>\n",
       "      <td>True</td>\n",
       "      <td>True</td>\n",
       "      <td>True</td>\n",
       "    </tr>\n",
       "    <tr>\n",
       "      <th>3</th>\n",
       "      <td>False</td>\n",
       "      <td>False</td>\n",
       "      <td>False</td>\n",
       "      <td>False</td>\n",
       "      <td>False</td>\n",
       "      <td>False</td>\n",
       "      <td>False</td>\n",
       "      <td>False</td>\n",
       "      <td>False</td>\n",
       "      <td>False</td>\n",
       "      <td>...</td>\n",
       "      <td>False</td>\n",
       "      <td>False</td>\n",
       "      <td>False</td>\n",
       "      <td>False</td>\n",
       "      <td>True</td>\n",
       "      <td>True</td>\n",
       "      <td>True</td>\n",
       "      <td>True</td>\n",
       "      <td>True</td>\n",
       "      <td>True</td>\n",
       "    </tr>\n",
       "    <tr>\n",
       "      <th>4</th>\n",
       "      <td>False</td>\n",
       "      <td>False</td>\n",
       "      <td>False</td>\n",
       "      <td>False</td>\n",
       "      <td>False</td>\n",
       "      <td>False</td>\n",
       "      <td>False</td>\n",
       "      <td>False</td>\n",
       "      <td>False</td>\n",
       "      <td>False</td>\n",
       "      <td>...</td>\n",
       "      <td>False</td>\n",
       "      <td>False</td>\n",
       "      <td>False</td>\n",
       "      <td>False</td>\n",
       "      <td>False</td>\n",
       "      <td>False</td>\n",
       "      <td>False</td>\n",
       "      <td>False</td>\n",
       "      <td>False</td>\n",
       "      <td>False</td>\n",
       "    </tr>\n",
       "    <tr>\n",
       "      <th>...</th>\n",
       "      <td>...</td>\n",
       "      <td>...</td>\n",
       "      <td>...</td>\n",
       "      <td>...</td>\n",
       "      <td>...</td>\n",
       "      <td>...</td>\n",
       "      <td>...</td>\n",
       "      <td>...</td>\n",
       "      <td>...</td>\n",
       "      <td>...</td>\n",
       "      <td>...</td>\n",
       "      <td>...</td>\n",
       "      <td>...</td>\n",
       "      <td>...</td>\n",
       "      <td>...</td>\n",
       "      <td>...</td>\n",
       "      <td>...</td>\n",
       "      <td>...</td>\n",
       "      <td>...</td>\n",
       "      <td>...</td>\n",
       "      <td>...</td>\n",
       "    </tr>\n",
       "    <tr>\n",
       "      <th>697</th>\n",
       "      <td>False</td>\n",
       "      <td>False</td>\n",
       "      <td>False</td>\n",
       "      <td>False</td>\n",
       "      <td>False</td>\n",
       "      <td>False</td>\n",
       "      <td>False</td>\n",
       "      <td>False</td>\n",
       "      <td>False</td>\n",
       "      <td>False</td>\n",
       "      <td>...</td>\n",
       "      <td>False</td>\n",
       "      <td>False</td>\n",
       "      <td>False</td>\n",
       "      <td>False</td>\n",
       "      <td>False</td>\n",
       "      <td>False</td>\n",
       "      <td>False</td>\n",
       "      <td>False</td>\n",
       "      <td>False</td>\n",
       "      <td>False</td>\n",
       "    </tr>\n",
       "    <tr>\n",
       "      <th>698</th>\n",
       "      <td>False</td>\n",
       "      <td>False</td>\n",
       "      <td>False</td>\n",
       "      <td>False</td>\n",
       "      <td>False</td>\n",
       "      <td>False</td>\n",
       "      <td>False</td>\n",
       "      <td>False</td>\n",
       "      <td>False</td>\n",
       "      <td>False</td>\n",
       "      <td>...</td>\n",
       "      <td>True</td>\n",
       "      <td>True</td>\n",
       "      <td>True</td>\n",
       "      <td>True</td>\n",
       "      <td>True</td>\n",
       "      <td>True</td>\n",
       "      <td>True</td>\n",
       "      <td>True</td>\n",
       "      <td>True</td>\n",
       "      <td>True</td>\n",
       "    </tr>\n",
       "    <tr>\n",
       "      <th>699</th>\n",
       "      <td>False</td>\n",
       "      <td>False</td>\n",
       "      <td>False</td>\n",
       "      <td>False</td>\n",
       "      <td>False</td>\n",
       "      <td>False</td>\n",
       "      <td>False</td>\n",
       "      <td>False</td>\n",
       "      <td>False</td>\n",
       "      <td>False</td>\n",
       "      <td>...</td>\n",
       "      <td>False</td>\n",
       "      <td>False</td>\n",
       "      <td>False</td>\n",
       "      <td>False</td>\n",
       "      <td>False</td>\n",
       "      <td>False</td>\n",
       "      <td>False</td>\n",
       "      <td>False</td>\n",
       "      <td>False</td>\n",
       "      <td>False</td>\n",
       "    </tr>\n",
       "    <tr>\n",
       "      <th>700</th>\n",
       "      <td>False</td>\n",
       "      <td>False</td>\n",
       "      <td>False</td>\n",
       "      <td>False</td>\n",
       "      <td>False</td>\n",
       "      <td>True</td>\n",
       "      <td>True</td>\n",
       "      <td>True</td>\n",
       "      <td>True</td>\n",
       "      <td>True</td>\n",
       "      <td>...</td>\n",
       "      <td>False</td>\n",
       "      <td>False</td>\n",
       "      <td>False</td>\n",
       "      <td>False</td>\n",
       "      <td>False</td>\n",
       "      <td>False</td>\n",
       "      <td>False</td>\n",
       "      <td>False</td>\n",
       "      <td>False</td>\n",
       "      <td>False</td>\n",
       "    </tr>\n",
       "    <tr>\n",
       "      <th>701</th>\n",
       "      <td>False</td>\n",
       "      <td>False</td>\n",
       "      <td>False</td>\n",
       "      <td>False</td>\n",
       "      <td>False</td>\n",
       "      <td>False</td>\n",
       "      <td>False</td>\n",
       "      <td>False</td>\n",
       "      <td>False</td>\n",
       "      <td>False</td>\n",
       "      <td>...</td>\n",
       "      <td>False</td>\n",
       "      <td>False</td>\n",
       "      <td>False</td>\n",
       "      <td>False</td>\n",
       "      <td>False</td>\n",
       "      <td>False</td>\n",
       "      <td>False</td>\n",
       "      <td>False</td>\n",
       "      <td>False</td>\n",
       "      <td>False</td>\n",
       "    </tr>\n",
       "  </tbody>\n",
       "</table>\n",
       "<p>702 rows × 72 columns</p>\n",
       "</div>"
      ],
      "text/plain": [
       "     Record ID  Institute  WorkArea  CESSATION YEAR  \\\n",
       "0        False      False     False           False   \n",
       "1        False      False     False           False   \n",
       "2        False      False     False           False   \n",
       "3        False      False     False           False   \n",
       "4        False      False     False           False   \n",
       "..         ...        ...       ...             ...   \n",
       "697      False      False     False           False   \n",
       "698      False      False     False           False   \n",
       "699      False      False     False           False   \n",
       "700      False      False     False           False   \n",
       "701      False      False     False           False   \n",
       "\n",
       "     Reason for ceasing employment  \\\n",
       "0                            False   \n",
       "1                            False   \n",
       "2                            False   \n",
       "3                            False   \n",
       "4                            False   \n",
       "..                             ...   \n",
       "697                          False   \n",
       "698                          False   \n",
       "699                          False   \n",
       "700                          False   \n",
       "701                          False   \n",
       "\n",
       "     Contributing Factors. Career Move - Public Sector   \\\n",
       "0                                                 True    \n",
       "1                                                False    \n",
       "2                                                False    \n",
       "3                                                False    \n",
       "4                                                False    \n",
       "..                                                 ...    \n",
       "697                                              False    \n",
       "698                                              False    \n",
       "699                                              False    \n",
       "700                                               True    \n",
       "701                                              False    \n",
       "\n",
       "     Contributing Factors. Career Move - Private Sector   \\\n",
       "0                                                 True     \n",
       "1                                                False     \n",
       "2                                                False     \n",
       "3                                                False     \n",
       "4                                                False     \n",
       "..                                                 ...     \n",
       "697                                              False     \n",
       "698                                              False     \n",
       "699                                              False     \n",
       "700                                               True     \n",
       "701                                              False     \n",
       "\n",
       "     Contributing Factors. Career Move - Self-employment  \\\n",
       "0                                                 True     \n",
       "1                                                False     \n",
       "2                                                False     \n",
       "3                                                False     \n",
       "4                                                False     \n",
       "..                                                 ...     \n",
       "697                                              False     \n",
       "698                                              False     \n",
       "699                                              False     \n",
       "700                                               True     \n",
       "701                                              False     \n",
       "\n",
       "     Contributing Factors. Ill Health  Contributing Factors. Maternity/Family  \\\n",
       "0                                True                                    True   \n",
       "1                               False                                   False   \n",
       "2                               False                                   False   \n",
       "3                               False                                   False   \n",
       "4                               False                                   False   \n",
       "..                                ...                                     ...   \n",
       "697                             False                                   False   \n",
       "698                             False                                   False   \n",
       "699                             False                                   False   \n",
       "700                              True                                    True   \n",
       "701                             False                                   False   \n",
       "\n",
       "     ...  \\\n",
       "0    ...   \n",
       "1    ...   \n",
       "2    ...   \n",
       "3    ...   \n",
       "4    ...   \n",
       "..   ...   \n",
       "697  ...   \n",
       "698  ...   \n",
       "699  ...   \n",
       "700  ...   \n",
       "701  ...   \n",
       "\n",
       "     Workplace. Topic:Does your workplace promote a work culture free from all forms of unlawful discrimination?  \\\n",
       "0                                                False                                                             \n",
       "1                                                False                                                             \n",
       "2                                                False                                                             \n",
       "3                                                False                                                             \n",
       "4                                                False                                                             \n",
       "..                                                 ...                                                             \n",
       "697                                              False                                                             \n",
       "698                                               True                                                             \n",
       "699                                              False                                                             \n",
       "700                                              False                                                             \n",
       "701                                              False                                                             \n",
       "\n",
       "     Workplace. Topic:Does your workplace promote and practice the principles of employment equity?  \\\n",
       "0                                                False                                                \n",
       "1                                                False                                                \n",
       "2                                                False                                                \n",
       "3                                                False                                                \n",
       "4                                                False                                                \n",
       "..                                                 ...                                                \n",
       "697                                              False                                                \n",
       "698                                               True                                                \n",
       "699                                              False                                                \n",
       "700                                              False                                                \n",
       "701                                              False                                                \n",
       "\n",
       "     Workplace. Topic:Does your workplace value the diversity of its employees?  \\\n",
       "0                                                False                            \n",
       "1                                                False                            \n",
       "2                                                False                            \n",
       "3                                                False                            \n",
       "4                                                False                            \n",
       "..                                                 ...                            \n",
       "697                                              False                            \n",
       "698                                               True                            \n",
       "699                                              False                            \n",
       "700                                              False                            \n",
       "701                                              False                            \n",
       "\n",
       "     Workplace. Topic:Would you recommend the Institute as an employer to others?  \\\n",
       "0                                                False                              \n",
       "1                                                False                              \n",
       "2                                                False                              \n",
       "3                                                False                              \n",
       "4                                                False                              \n",
       "..                                                 ...                              \n",
       "697                                              False                              \n",
       "698                                               True                              \n",
       "699                                              False                              \n",
       "700                                              False                              \n",
       "701                                              False                              \n",
       "\n",
       "     Gender. What is your Gender?  CurrentAge. Current Age  \\\n",
       "0                           False                    False   \n",
       "1                            True                     True   \n",
       "2                            True                     True   \n",
       "3                            True                     True   \n",
       "4                           False                    False   \n",
       "..                            ...                      ...   \n",
       "697                         False                    False   \n",
       "698                          True                     True   \n",
       "699                         False                    False   \n",
       "700                         False                    False   \n",
       "701                         False                    False   \n",
       "\n",
       "     Employment Type. Employment Type  Classification. Classification  \\\n",
       "0                               False                           False   \n",
       "1                                True                            True   \n",
       "2                                True                            True   \n",
       "3                                True                            True   \n",
       "4                               False                           False   \n",
       "..                                ...                             ...   \n",
       "697                             False                           False   \n",
       "698                              True                            True   \n",
       "699                             False                           False   \n",
       "700                             False                           False   \n",
       "701                             False                           False   \n",
       "\n",
       "     LengthofServiceOverall. Overall Length of Service at Institute (in years)  \\\n",
       "0                                                False                           \n",
       "1                                                 True                           \n",
       "2                                                 True                           \n",
       "3                                                 True                           \n",
       "4                                                False                           \n",
       "..                                                 ...                           \n",
       "697                                              False                           \n",
       "698                                               True                           \n",
       "699                                              False                           \n",
       "700                                              False                           \n",
       "701                                              False                           \n",
       "\n",
       "     LengthofServiceCurrent. Length of Service at current workplace (in years)  \n",
       "0                                                False                          \n",
       "1                                                 True                          \n",
       "2                                                 True                          \n",
       "3                                                 True                          \n",
       "4                                                False                          \n",
       "..                                                 ...                          \n",
       "697                                              False                          \n",
       "698                                               True                          \n",
       "699                                              False                          \n",
       "700                                              False                          \n",
       "701                                              False                          \n",
       "\n",
       "[702 rows x 72 columns]"
      ]
     },
     "execution_count": 26,
     "metadata": {},
     "output_type": "execute_result"
    }
   ],
   "source": [
    "import pandas as pd\n",
    "import numpy as np\n",
    "\n",
    "# Read Dete survey\n",
    "dete_survey = pd.read_csv('dete_survey.csv')\n",
    "\n",
    "# Read TAFE survey data\n",
    "tafe_survey = pd.read_csv('tafe_survey.csv')\n",
    "\n",
    "\n",
    "#about the dete survery\n",
    "dete_survey.info()\n",
    "dete_survey.head() \n",
    "dete_survey.isnull()\n",
    "\n",
    "#about the Tafe survey\n",
    "tafe_survey.info()\n",
    "tafe_survey.head()\n",
    "tafe_survey.isnull()\n"
   ]
  },
  {
   "cell_type": "markdown",
   "metadata": {},
   "source": [
    "#### Observations from DETE and TAFE Surveys:\n",
    "\n",
    "###### DETE Survey:\n",
    "\n",
    "1. Dataset contains 822 entries and 56 columns.\n",
    "2. Varied data types: integers, booleans, objects (strings).\n",
    "3. Some columns have significant missing values, like 'Classification' and 'Business Unit'.\n",
    "4. SeparationType' categorizes reasons for separation; 'Cease Date' captures employment end dates.\n",
    "5. Columns cover factors contributing to dissatisfaction and career aspirations.\n",
    "\n",
    "###### TAFE Survey:\n",
    "\n",
    "1. Dataset includes 702 entries and 72 columns.\n",
    "2. Diverse data types: floats, objects (strings), booleans.\n",
    "3. Missing values exist, particularly in 'Contributing Factors' and related columns.\n",
    "4. 'Contributing Factors' columns detail reasons for leaving.\n",
    "5. Columns focus on workplace views, culture, and experiences.\n",
    "\n",
    "Both surveys offer valuable insights into employee sentiments, reasons for leaving, and workplace experiences. Addressing missing data and utilizing key columns will help uncover patterns influencing employee turnover.\n",
    "\n",
    "\n",
    "\n",
    "\n",
    "\n"
   ]
  },
  {
   "cell_type": "markdown",
   "metadata": {},
   "source": [
    "# Identify Missing Values and Drop Unnecessary Columns\n"
   ]
  },
  {
   "cell_type": "markdown",
   "metadata": {},
   "source": [
    "In this step of the data preparation process, we are addressing **missing values and removing unnecessary columns** to create a clean and focused dataset for analysis. Here's a breakdown of the tasks:\n",
    "\n",
    "1. Handling Missing Values in DETE Survey:\n",
    "The DETE survey dataset contains missing values represented as 'Not Stated' instead of NaN.\n",
    "We use the pd.read_csv() function to read the CSV file and treat 'Not Stated' as NaN by specifying the na_values parameter.\n",
    "\n",
    "2. Dropping Unnecessary Columns:\n",
    "Both the DETE and TAFE survey datasets have numerous columns that are not relevant to our analysis.\n",
    "We identify columns that are not needed for our specific analysis goals.\n",
    "Using the drop() method, we remove these irrelevant columns from the dataframes, streamlining the data to include only the necessary information.\n",
    "\n",
    "\n",
    "By addressing missing values and eliminating irrelevant columns, we ensure that the data is cleaner, more structured, and focused on the aspects that are pertinent to our analysis objectives. This sets the stage for more meaningful and insightful data exploration and analysis in the subsequent steps."
   ]
  },
  {
   "cell_type": "code",
   "execution_count": 27,
   "metadata": {},
   "outputs": [
    {
     "name": "stdout",
     "output_type": "stream",
     "text": [
      "Index(['ID', 'SeparationType', 'Cease Date', 'DETE Start Date',\n",
      "       'Role Start Date', 'Position', 'Classification', 'Region',\n",
      "       'Business Unit', 'Employment Status', 'Career move to public sector',\n",
      "       'Career move to private sector', 'Interpersonal conflicts',\n",
      "       'Job dissatisfaction', 'Dissatisfaction with the department',\n",
      "       'Physical work environment', 'Lack of recognition',\n",
      "       'Lack of job security', 'Work location', 'Employment conditions',\n",
      "       'Maternity/family', 'Relocation', 'Study/Travel', 'Ill Health',\n",
      "       'Traumatic incident', 'Work life balance', 'Workload',\n",
      "       'None of the above', 'Gender', 'Age', 'Aboriginal', 'Torres Strait',\n",
      "       'South Sea', 'Disability', 'NESB'],\n",
      "      dtype='object')\n",
      "Index(['Record ID', 'Institute', 'WorkArea', 'CESSATION YEAR',\n",
      "       'Reason for ceasing employment',\n",
      "       'Contributing Factors. Career Move - Public Sector ',\n",
      "       'Contributing Factors. Career Move - Private Sector ',\n",
      "       'Contributing Factors. Career Move - Self-employment',\n",
      "       'Contributing Factors. Ill Health',\n",
      "       'Contributing Factors. Maternity/Family',\n",
      "       'Contributing Factors. Dissatisfaction',\n",
      "       'Contributing Factors. Job Dissatisfaction',\n",
      "       'Contributing Factors. Interpersonal Conflict',\n",
      "       'Contributing Factors. Study', 'Contributing Factors. Travel',\n",
      "       'Contributing Factors. Other', 'Contributing Factors. NONE',\n",
      "       'Gender. What is your Gender?', 'CurrentAge. Current Age',\n",
      "       'Employment Type. Employment Type', 'Classification. Classification',\n",
      "       'LengthofServiceOverall. Overall Length of Service at Institute (in years)',\n",
      "       'LengthofServiceCurrent. Length of Service at current workplace (in years)'],\n",
      "      dtype='object')\n"
     ]
    }
   ],
   "source": [
    "#Read the dete_survey but read the \"Not stated\" value as NaN\n",
    "dete_survey = pd.read_csv(\"dete_survey.csv\", na_values = \"Not Stated\")\n",
    "\n",
    "#drop some columns that we are not using for the analysis \n",
    "dete_survey_updated = dete_survey.drop(dete_survey.columns[28:49], axis = 1)\n",
    "tafe_survey_updated = tafe_survey.drop(tafe_survey.columns[17:66], axis = 1)\n",
    "\n",
    "#checking columns droped\n",
    "print(dete_survey_updated.columns)\n",
    "print(tafe_survey_updated.columns)"
   ]
  },
  {
   "cell_type": "markdown",
   "metadata": {},
   "source": [
    "###### RESULT ANALYSIS \n",
    "After dropping the specified columns, the dete_survey_updated DataFrame no longer includes columns associated with workplace factors, employee feedback, and reasons for ceasing employment. Similarly, in the tafe_survey_updated DataFrame, columns related to reasons for leaving employment have been removed. This selective removal of columns effectively streamlines the datasets, eliminating irrelevant information and enhancing their suitability for a more focused and meaningful analysis."
   ]
  },
  {
   "cell_type": "markdown",
   "metadata": {},
   "source": [
    "# Clean Column Names"
   ]
  },
  {
   "cell_type": "markdown",
   "metadata": {},
   "source": [
    "In this step, we are focusing on standardizing and aligning the column names between the **dete_survey and tafe_survey dataframes**. Both dataframes share several common columns that we intend to use for our final analysis. These columns include identifiers such as ID and Record ID, information about separation or reason for ceasing employment, employment start and end dates, overall length of service, age, and gender of the participants.\n",
    "\n",
    "To ensure consistency and facilitate future data merging, we will use the DataFrame.columns attribute along with vectorized string methods to update and standardize the column names across both dataframes. This process involves renaming columns in a way that makes them uniform and aligns them with their corresponding definitions, enabling seamless data integration and analysis."
   ]
  },
  {
   "cell_type": "code",
   "execution_count": 28,
   "metadata": {},
   "outputs": [
    {
     "data": {
      "text/plain": [
       "Index(['id', 'separationtype', 'cease_date', 'dete_start_date',\n",
       "       'role_start_date', 'position', 'classification', 'region',\n",
       "       'business_unit', 'employment_status', 'career_move_to_public_sector',\n",
       "       'career_move_to_private_sector', 'interpersonal_conflicts',\n",
       "       'job_dissatisfaction', 'dissatisfaction_with_the_department',\n",
       "       'physical_work_environment', 'lack_of_recognition',\n",
       "       'lack_of_job_security', 'work_location', 'employment_conditions',\n",
       "       'maternity/family', 'relocation', 'study/travel', 'ill_health',\n",
       "       'traumatic_incident', 'work_life_balance', 'workload',\n",
       "       'none_of_the_above', 'gender', 'age', 'aboriginal', 'torres_strait',\n",
       "       'south_sea', 'disability', 'nesb'],\n",
       "      dtype='object')"
      ]
     },
     "execution_count": 28,
     "metadata": {},
     "output_type": "execute_result"
    }
   ],
   "source": [
    "#Rename the columns in the dataframe\n",
    "dete_survey_updated.columns = dete_survey_updated.columns.str.lower().str.strip().str.replace(' ', '_')\n",
    "\n",
    "# Check that the column names were updated correctly\n",
    "dete_survey_updated.columns\n"
   ]
  },
  {
   "cell_type": "markdown",
   "metadata": {},
   "source": [
    "#### SUMMARY\n",
    "In the tafe_survey_updated dataframe, the column names were updated to match the corresponding columns in the dete_survey_updated dataframe. The changes included removing spaces and ensuring consistent naming for various attributes such as participant ID, employment cessation date, separation type, gender, age, employment status, position, institute service length, and role service length. These modifications enhance data consistency and compatibility for effective analysis and comparison between the two datasets."
   ]
  },
  {
   "cell_type": "code",
   "execution_count": 29,
   "metadata": {},
   "outputs": [
    {
     "data": {
      "text/plain": [
       "Index(['id', 'Institute', 'WorkArea', 'cease_date', 'separationtype',\n",
       "       'Contributing Factors. Career Move - Public Sector ',\n",
       "       'Contributing Factors. Career Move - Private Sector ',\n",
       "       'Contributing Factors. Career Move - Self-employment',\n",
       "       'Contributing Factors. Ill Health',\n",
       "       'Contributing Factors. Maternity/Family',\n",
       "       'Contributing Factors. Dissatisfaction',\n",
       "       'Contributing Factors. Job Dissatisfaction',\n",
       "       'Contributing Factors. Interpersonal Conflict',\n",
       "       'Contributing Factors. Study', 'Contributing Factors. Travel',\n",
       "       'Contributing Factors. Other', 'Contributing Factors. NONE', 'gender',\n",
       "       'age', 'employment_status', 'position', 'institute_service',\n",
       "       'role_service'],\n",
       "      dtype='object')"
      ]
     },
     "execution_count": 29,
     "metadata": {},
     "output_type": "execute_result"
    }
   ],
   "source": [
    "#Update column names to match the names in dete_survey_updated\n",
    "mapping = {'Record ID': 'id', 'CESSATION YEAR': 'cease_date', 'Reason for ceasing employment': 'separationtype', 'Gender. What is your Gender?': 'gender', 'CurrentAge. Current Age': 'age',\n",
    "       'Employment Type. Employment Type': 'employment_status',\n",
    "       'Classification. Classification': 'position',\n",
    "       'LengthofServiceOverall. Overall Length of Service at Institute (in years)': 'institute_service',\n",
    "       'LengthofServiceCurrent. Length of Service at current workplace (in years)': 'role_service'}\n",
    "tafe_survey_updated = tafe_survey_updated.rename(mapping, axis = 1)\n",
    "\n",
    "# Check that the specified column names were updated correctly\n",
    "tafe_survey_updated.columns\n"
   ]
  },
  {
   "cell_type": "markdown",
   "metadata": {},
   "source": [
    "# Filter the Data"
   ]
  },
  {
   "cell_type": "code",
   "execution_count": 30,
   "metadata": {},
   "outputs": [
    {
     "data": {
      "text/plain": [
       "Age Retirement                          285\n",
       "Resignation-Other reasons               150\n",
       "Resignation-Other employer               91\n",
       "Resignation-Move overseas/interstate     70\n",
       "Voluntary Early Retirement (VER)         67\n",
       "Ill Health Retirement                    61\n",
       "Other                                    49\n",
       "Contract Expired                         34\n",
       "Termination                              15\n",
       "Name: separationtype, dtype: int64"
      ]
     },
     "execution_count": 30,
     "metadata": {},
     "output_type": "execute_result"
    }
   ],
   "source": [
    "#review teh unique values of separation for updated dete_survery\n",
    "dete_survey_updated[\"separationtype\"].value_counts()"
   ]
  },
  {
   "cell_type": "code",
   "execution_count": 31,
   "metadata": {},
   "outputs": [
    {
     "data": {
      "text/plain": [
       "Resignation                 340\n",
       "Contract Expired            127\n",
       "Retrenchment/ Redundancy    104\n",
       "Retirement                   82\n",
       "Transfer                     25\n",
       "Termination                  23\n",
       "Name: separationtype, dtype: int64"
      ]
     },
     "execution_count": 31,
     "metadata": {},
     "output_type": "execute_result"
    }
   ],
   "source": [
    "#review teh unique values of separation for updated tafe_survey\n",
    "tafe_survey_updated[\"separationtype\"].value_counts()"
   ]
  },
  {
   "cell_type": "code",
   "execution_count": 32,
   "metadata": {},
   "outputs": [
    {
     "data": {
      "text/plain": [
       "Resignation                         311\n",
       "Age Retirement                      285\n",
       "Voluntary Early Retirement (VER)     67\n",
       "Ill Health Retirement                61\n",
       "Other                                49\n",
       "Contract Expired                     34\n",
       "Termination                          15\n",
       "Name: separationtype, dtype: int64"
      ]
     },
     "execution_count": 32,
     "metadata": {},
     "output_type": "execute_result"
    }
   ],
   "source": [
    "#separate types containing the word Resignation\n",
    "dete_survey_updated['separationtype'] = dete_survey_updated['separationtype'].str.split('-').str[0]\n",
    "\n",
    "# Check the values in the separationtype column were updated correctly\n",
    "dete_survey_updated['separationtype'].value_counts()\n"
   ]
  },
  {
   "cell_type": "code",
   "execution_count": 33,
   "metadata": {},
   "outputs": [],
   "source": [
    "#use the result to avoid the setting with copy warning\n",
    "dete_resignations = dete_survey_updated[dete_survey_updated['separationtype']=='Resignation'].copy()\n",
    "tafe_resignations = tafe_survey_updated[tafe_survey_updated['separationtype']=='Resignation'].copy()"
   ]
  },
  {
   "cell_type": "markdown",
   "metadata": {},
   "source": [
    "### Result Analysis\n",
    "\n",
    "In this step of filtering the data, we first used the **value_counts() method** on the **\"separationtype\"** column of both the **dete_survey_updated and tafe_survey_updated dataframes**. This allowed us to review the unique separation types and their respective frequencies in each dataset. Our focus was on identifying the instances with the separation type **\"Resignation,\"** which included various subtypes in the dete_survey_updated dataframe.\n",
    "\n",
    "To ensure consistency and accurate analysis, we standardized the separation types containing the word **\"Resignation\"** in the dete_survey_updated dataframe. This was done by **splitting the values on the hyphen (\"-\") and selecting the first part**. This step aimed to address any potential variations in formatting. Subsequently, we used the modified separation types to create new dataframes, dete_resignations and tafe_resignations, containing data only from respondents who indicated a resignation as their reason for separation. The .copy() method was employed to avoid the \"SettingWithCopy Warning,\" ensuring independent and reliable dataframes for further analysis.\n",
    "\n",
    "In summary, we reviewed and extracted survey responses specifically associated with resignation from both datasets, standardizing separation types for consistency, and created new dataframes for resigned employees. This process lays the foundation for analyzing resignation-related factors and conducting meaningful comparisons between the two surveys."
   ]
  },
  {
   "cell_type": "markdown",
   "metadata": {},
   "source": [
    "# Verify the Data\n"
   ]
  },
  {
   "cell_type": "code",
   "execution_count": 34,
   "metadata": {},
   "outputs": [
    {
     "data": {
      "text/plain": [
       "2012       126\n",
       "2013        74\n",
       "01/2014     22\n",
       "12/2013     17\n",
       "06/2013     14\n",
       "09/2013     11\n",
       "07/2013      9\n",
       "11/2013      9\n",
       "10/2013      6\n",
       "08/2013      4\n",
       "05/2013      2\n",
       "05/2012      2\n",
       "09/2010      1\n",
       "07/2006      1\n",
       "2010         1\n",
       "07/2012      1\n",
       "Name: cease_date, dtype: int64"
      ]
     },
     "execution_count": 34,
     "metadata": {},
     "output_type": "execute_result"
    }
   ],
   "source": [
    "# Checking unique values\n",
    "dete_resignations['cease_date'].value_counts()"
   ]
  },
  {
   "cell_type": "code",
   "execution_count": 35,
   "metadata": {},
   "outputs": [
    {
     "data": {
      "text/plain": [
       "2013.0    146\n",
       "2012.0    129\n",
       "2014.0     22\n",
       "2010.0      2\n",
       "2006.0      1\n",
       "Name: cease_date, dtype: int64"
      ]
     },
     "execution_count": 35,
     "metadata": {},
     "output_type": "execute_result"
    }
   ],
   "source": [
    "# Extract the years \n",
    "dete_resignations['cease_date'] = dete_resignations['cease_date'].str.split('/').str[-1]\n",
    "\n",
    "#Convert into float\n",
    "dete_resignations['cease_date'] = dete_resignations['cease_date'].astype(\"float\")\n",
    "\n",
    "# Check the values again and look for outliers\n",
    "dete_resignations['cease_date'].value_counts()"
   ]
  },
  {
   "cell_type": "code",
   "execution_count": 36,
   "metadata": {},
   "outputs": [
    {
     "data": {
      "text/plain": [
       "1963.0     1\n",
       "1971.0     1\n",
       "1972.0     1\n",
       "1984.0     1\n",
       "1977.0     1\n",
       "1987.0     1\n",
       "1975.0     1\n",
       "1973.0     1\n",
       "1982.0     1\n",
       "1974.0     2\n",
       "1983.0     2\n",
       "1976.0     2\n",
       "1986.0     3\n",
       "1985.0     3\n",
       "2001.0     3\n",
       "1995.0     4\n",
       "1988.0     4\n",
       "1989.0     4\n",
       "1991.0     4\n",
       "1997.0     5\n",
       "1980.0     5\n",
       "1993.0     5\n",
       "1990.0     5\n",
       "1994.0     6\n",
       "2003.0     6\n",
       "1998.0     6\n",
       "1992.0     6\n",
       "2002.0     6\n",
       "1996.0     6\n",
       "1999.0     8\n",
       "2000.0     9\n",
       "2013.0    10\n",
       "2009.0    13\n",
       "2006.0    13\n",
       "2004.0    14\n",
       "2005.0    15\n",
       "2010.0    17\n",
       "2012.0    21\n",
       "2007.0    21\n",
       "2008.0    22\n",
       "2011.0    24\n",
       "Name: dete_start_date, dtype: int64"
      ]
     },
     "execution_count": 36,
     "metadata": {},
     "output_type": "execute_result"
    }
   ],
   "source": [
    "# Check the unique values \n",
    "dete_resignations['dete_start_date'].value_counts().sort_values()"
   ]
  },
  {
   "cell_type": "code",
   "execution_count": 37,
   "metadata": {},
   "outputs": [
    {
     "data": {
      "text/plain": [
       "2009.0      2\n",
       "2013.0     55\n",
       "2010.0     68\n",
       "2012.0     94\n",
       "2011.0    116\n",
       "Name: cease_date, dtype: int64"
      ]
     },
     "execution_count": 37,
     "metadata": {},
     "output_type": "execute_result"
    }
   ],
   "source": [
    "# Check the unique values and look for outliers\n",
    "tafe_resignations['cease_date'].value_counts().sort_values()"
   ]
  },
  {
   "cell_type": "markdown",
   "metadata": {},
   "source": [
    "### Result Analysis\n",
    "\n",
    "The provided data shows the distribution of employee resignation years (cease_date) and the years when they started their employment (dete_start_date) in the DETE dataset.\n",
    "\n",
    "##### Resignation Years (cease_date):\n",
    "\n",
    "The most common resignation year is 2012, with 126 resignations.\n",
    "The year 2013 has the second-highest number of resignations, with 74.\n",
    "Other years with notable resignation counts are 2014, 2010, and 2006.\n",
    "\n",
    "##### Start Years (dete_start_date):\n",
    "\n",
    "Employees who started in 2013 have the highest count, with 146 individuals.\n",
    "The year 2012 follows closely with 129 employees who began their employment then.\n",
    "The data also includes start years from as far back as 1963.\n",
    "\n",
    "\n",
    "The findings provide insights into the distribution of resignations and start years of employees in the dete_survey dataset. It suggests that there were significant resignation activities in the years 2012 and 2013. Additionally, the dataset includes employees who started their employment as far back as the 1960s, which might provide valuable context for further analysis.\n",
    "\n",
    "\n",
    "\n",
    "\n",
    "\n"
   ]
  },
  {
   "cell_type": "markdown",
   "metadata": {},
   "source": [
    "# Create a New Column"
   ]
  },
  {
   "cell_type": "code",
   "execution_count": 38,
   "metadata": {},
   "outputs": [
    {
     "data": {
      "text/plain": [
       "3      7.0\n",
       "5     18.0\n",
       "8      3.0\n",
       "9     15.0\n",
       "11     3.0\n",
       "Name: institute_service, dtype: float64"
      ]
     },
     "execution_count": 38,
     "metadata": {},
     "output_type": "execute_result"
    }
   ],
   "source": [
    "#create institute_survey column in the dete_resignations by calculate number of service \n",
    "dete_resignations['institute_service'] = dete_resignations['cease_date'] - dete_resignations['dete_start_date']\n",
    "\n",
    "dete_resignations['institute_service'].head()"
   ]
  },
  {
   "cell_type": "markdown",
   "metadata": {},
   "source": [
    "### Result Analysis \n",
    "A new column called \"institute_service\" was added to the dete_resignations DataFrame. This column was created by subtracting the \"dete_start_date\" from the \"cease_date\" column, providing the length of service for each resigning employee. The values in the \"institute_service\" column represent the years of service that employees had before resigning. For instance, the first few values in this column indicate that certain employees had 7.0, 18.0, 3.0, 15.0, and 3.0 years of service, respectively. This additional column was introduced to facilitate the analysis of employee tenure and its potential correlation with reasons for resignation."
   ]
  },
  {
   "cell_type": "markdown",
   "metadata": {},
   "source": [
    "# Identify Dissatisfied Employees\n"
   ]
  },
  {
   "cell_type": "code",
   "execution_count": 39,
   "metadata": {},
   "outputs": [
    {
     "data": {
      "text/plain": [
       "-                                         277\n",
       "Contributing Factors. Dissatisfaction      55\n",
       "Name: Contributing Factors. Dissatisfaction, dtype: int64"
      ]
     },
     "execution_count": 39,
     "metadata": {},
     "output_type": "execute_result"
    }
   ],
   "source": [
    "#counts for dissatification\n",
    "tafe_resignations['Contributing Factors. Dissatisfaction'].value_counts()\n"
   ]
  },
  {
   "cell_type": "code",
   "execution_count": 40,
   "metadata": {},
   "outputs": [
    {
     "data": {
      "text/plain": [
       "-                      270\n",
       "Job Dissatisfaction     62\n",
       "Name: Contributing Factors. Job Dissatisfaction, dtype: int64"
      ]
     },
     "execution_count": 40,
     "metadata": {},
     "output_type": "execute_result"
    }
   ],
   "source": [
    "#counts for job dissatifications\n",
    "tafe_resignations['Contributing Factors. Job Dissatisfaction'].value_counts()"
   ]
  },
  {
   "cell_type": "code",
   "execution_count": 74,
   "metadata": {
    "scrolled": false
   },
   "outputs": [
    {
     "data": {
      "text/plain": [
       "False    241\n",
       "True      91\n",
       "NaN        8\n",
       "Name: dissatisfied, dtype: int64"
      ]
     },
     "execution_count": 74,
     "metadata": {},
     "output_type": "execute_result"
    }
   ],
   "source": [
    "# Update the values in the contributing factors columns to be either True, False, or NaN\n",
    "def dissatisfy(row):\n",
    "    if row == '-':\n",
    "        return False\n",
    "    elif pd.isnull(row):\n",
    "        return np.nan\n",
    "    else:\n",
    "        return True\n",
    "tafe_resignations['dissatisfied'] = tafe_resignations[['Contributing Factors. Dissatisfaction', 'Contributing Factors. Job Dissatisfaction']].applymap(dissatisfy).any(1, skipna=False)\n",
    "tafe_resignations_up = tafe_resignations.copy()\n",
    "\n",
    "# Check the unique values after the updates\n",
    "tafe_resignations_up['dissatisfied'].value_counts(dropna=False)\n"
   ]
  },
  {
   "cell_type": "code",
   "execution_count": 75,
   "metadata": {},
   "outputs": [
    {
     "data": {
      "text/plain": [
       "False    162\n",
       "True     149\n",
       "Name: dissatisfied, dtype: int64"
      ]
     },
     "execution_count": 75,
     "metadata": {},
     "output_type": "execute_result"
    }
   ],
   "source": [
    "#Update the values in columns related to dissatisfaction to be either True, False, or NaN\n",
    "dete_resignations['dissatisfied'] = dete_resignations[['job_dissatisfaction',\n",
    "       'dissatisfaction_with_the_department', 'physical_work_environment',\n",
    "       'lack_of_recognition', 'lack_of_job_security', 'work_location',\n",
    "       'employment_conditions', 'work_life_balance',\n",
    "       'workload']].any(1, skipna=False)\n",
    "dete_resignations_up = dete_resignations.copy()\n",
    "dete_resignations_up['dissatisfied'].value_counts(dropna=False)\n"
   ]
  },
  {
   "cell_type": "markdown",
   "metadata": {},
   "source": [
    "### Result Analysis\n",
    "\n",
    "\n",
    "The addition of the 'dissatisfied' column to the tafe_resignations DataFrame serves as a pivotal enhancement for analyzing and understanding employee dissatisfaction factors within the context of resignations. This new column effectively condenses the information from the 'Contributing Factors. Dissatisfaction' and 'Contributing Factors. Job Dissatisfaction' columns, providing a more comprehensive perspective on the overall dissatisfaction status of each employee.\n",
    "\n",
    "By consolidating the various contributing factors into a single binary indicator, the 'dissatisfied' column simplifies the process of identifying cases of dissatisfaction. This simplification streamlines subsequent analytical steps and facilitates more focused investigations into the relationships between employee dissatisfaction, demographic variables, and other employment-related factors.\n",
    "\n",
    "The presence of True values in the 'dissatisfied' column highlights instances where at least one of the contributing factors was present, indicating potential dissatisfaction. Conversely, False values suggest that the employee did not cite dissatisfaction factors as a reason for resignation. The NaN values denote situations where the contributing factors were not applicable or unavailable, offering transparency regarding data gaps.\n",
    "\n",
    "This streamlined representation opens the door to various analytical opportunities. Researchers and analysts can now easily conduct quantitative assessments to determine the prevalence of dissatisfaction across different employee groups, such as age ranges, gender, employment status, and job roles. Additionally, it allows for exploratory analysis to uncover patterns and correlations between dissatisfaction and other variables, shedding light on potential areas for organizational improvement.\n",
    "\n",
    "The 'dissatisfied' column also enhances the interpretability of the dataset, making it more accessible to stakeholders who may not be familiar with the intricacies of the contributing factors. This transparency fosters better communication and informed decision-making regarding employee satisfaction and retention strategies.\n",
    "\n",
    "In conclusion, the addition of the 'dissatisfied' column is a significant step towards creating a more informative and analytically valuable dataset. It enables comprehensive investigations into employee dissatisfaction, empowers data-driven insights, and contributes to a deeper understanding of the factors influencing resignations within the TAFE institution."
   ]
  },
  {
   "cell_type": "markdown",
   "metadata": {},
   "source": [
    "# Combine the Data\n"
   ]
  },
  {
   "cell_type": "code",
   "execution_count": 76,
   "metadata": {},
   "outputs": [],
   "source": [
    "tafe_resignations_up['institute'] = 'TAFE'\n",
    "dete_resignations_up['institute']= 'DETE'"
   ]
  },
  {
   "cell_type": "code",
   "execution_count": 77,
   "metadata": {},
   "outputs": [
    {
     "data": {
      "text/plain": [
       "torres_strait                                            0\n",
       "south_sea                                                3\n",
       "aboriginal                                               7\n",
       "disability                                               8\n",
       "nesb                                                     9\n",
       "business_unit                                           32\n",
       "classification                                         161\n",
       "region                                                 265\n",
       "role_start_date                                        271\n",
       "dete_start_date                                        283\n",
       "role_service                                           290\n",
       "career_move_to_public_sector                           311\n",
       "interpersonal_conflicts                                311\n",
       "job_dissatisfaction                                    311\n",
       "dissatisfaction_with_the_department                    311\n",
       "physical_work_environment                              311\n",
       "lack_of_recognition                                    311\n",
       "lack_of_job_security                                   311\n",
       "career_move_to_private_sector                          311\n",
       "work_location                                          311\n",
       "maternity/family                                       311\n",
       "relocation                                             311\n",
       "study/travel                                           311\n",
       "ill_health                                             311\n",
       "traumatic_incident                                     311\n",
       "work_life_balance                                      311\n",
       "workload                                               311\n",
       "none_of_the_above                                      311\n",
       "employment_conditions                                  311\n",
       "Contributing Factors. Ill Health                       332\n",
       "Contributing Factors. Maternity/Family                 332\n",
       "Contributing Factors. Career Move - Public Sector      332\n",
       "Contributing Factors. Dissatisfaction                  332\n",
       "Contributing Factors. Job Dissatisfaction              332\n",
       "Contributing Factors. Interpersonal Conflict           332\n",
       "Contributing Factors. Study                            332\n",
       "Contributing Factors. Travel                           332\n",
       "Contributing Factors. Other                            332\n",
       "Contributing Factors. NONE                             332\n",
       "Contributing Factors. Career Move - Self-employment    332\n",
       "Contributing Factors. Career Move - Private Sector     332\n",
       "WorkArea                                               340\n",
       "Institute                                              340\n",
       "institute_service                                      563\n",
       "gender                                                 592\n",
       "age                                                    596\n",
       "employment_status                                      597\n",
       "position                                               598\n",
       "cease_date                                             635\n",
       "dissatisfied                                           643\n",
       "separationtype                                         651\n",
       "institute                                              651\n",
       "id                                                     651\n",
       "dtype: int64"
      ]
     },
     "execution_count": 77,
     "metadata": {},
     "output_type": "execute_result"
    }
   ],
   "source": [
    "#combined the two dataframes\n",
    "combined= pd.concat([tafe_resignations_up, dete_resignations_up], ignore_index= True)\n",
    "#check the number of non null in the two data \n",
    "combined.notnull().sum().sort_values()"
   ]
  },
  {
   "cell_type": "code",
   "execution_count": 78,
   "metadata": {},
   "outputs": [],
   "source": [
    "# Drop columns less than 400 values with non null\n",
    "combined_updated = combined.dropna(thresh = 500, axis =1).copy()"
   ]
  },
  {
   "cell_type": "markdown",
   "metadata": {},
   "source": [
    "## Result Analysis\n",
    "The provided data shows the result after the completion of various data preprocessing steps, which aimed to prepare the data for analysis. Here's a summary of the analysis and changes made to the data:\n",
    "\n",
    "#### Renaming Columns:\n",
    "Column names were standardized and made more intuitive to facilitate easier understanding and analysis.\n",
    "\n",
    "#### Dropping Unnecessary Data:\n",
    "Irrelevant columns were dropped, ensuring that only relevant information was retained for the analysis.\n",
    "\n",
    "#### Quality Verification:\n",
    "The quality of the data was assessed, and inconsistencies or missing values were addressed to ensure accurate analysis.\n",
    "\n",
    "#### New Columns Creation:\n",
    "New columns were created, such as 'institute_service', to provide additional insights and simplify aggregation.\n",
    "\n",
    "#### Cleaning Contributing Factors:\n",
    "Contributing Factors columns were cleaned and transformed to identify dissatisfaction-related factors.\n",
    "\n",
    "#### Identification of Dissatisfaction:\n",
    "A new column 'dissatisfied' was created to indicate whether an employee resigned due to some form of dissatisfaction.\n",
    "\n",
    "#### Institute Identifier Addition:\n",
    "A new 'institute' column was added to both the TAFE and DETE datasets, allowing easy distinction between the two sources.\n",
    "\n",
    "#### Combining Datasets:\n",
    "The TAFE and DETE datasets were combined into a single 'combined' dataset, facilitating comprehensive analysis across institutions.\n",
    "\n",
    "#### Dropping Low-Quality Columns:\n",
    "Columns with insufficient non-null values were dropped to focus on columns with more complete and reliable data.\n",
    "\n",
    "#### Data Aggregation Preparation:\n",
    "The resulting 'combined_updated' dataset was prepared for future analysis and aggregation.\n",
    "\n",
    "The changes and preprocessing steps mentioned above have enhanced the quality, consistency, and relevance of the data for subsequent analysis. By combining the data from two different institutions and creating a unified dataset, you've created a powerful resource that can be used to explore employee turnover, identify trends, and uncover factors contributing to resignations. The thorough data cleaning and preparation process ensures that the subsequent analysis will be accurate, insightful, and valuable for informing organizational strategies and decisions."
   ]
  },
  {
   "cell_type": "markdown",
   "metadata": {},
   "source": [
    "# Clean the Service Column"
   ]
  },
  {
   "cell_type": "code",
   "execution_count": 79,
   "metadata": {},
   "outputs": [
    {
     "data": {
      "text/plain": [
       "NaN                   88\n",
       "Less than 1 year      73\n",
       "1-2                   64\n",
       "3-4                   63\n",
       "5-6                   33\n",
       "11-20                 26\n",
       "5.0                   23\n",
       "1.0                   22\n",
       "7-10                  21\n",
       "0.0                   20\n",
       "3.0                   20\n",
       "6.0                   17\n",
       "4.0                   16\n",
       "9.0                   14\n",
       "2.0                   14\n",
       "7.0                   13\n",
       "More than 20 years    10\n",
       "8.0                    8\n",
       "13.0                   8\n",
       "15.0                   7\n",
       "20.0                   7\n",
       "17.0                   6\n",
       "12.0                   6\n",
       "14.0                   6\n",
       "10.0                   6\n",
       "22.0                   6\n",
       "16.0                   5\n",
       "18.0                   5\n",
       "24.0                   4\n",
       "11.0                   4\n",
       "23.0                   4\n",
       "21.0                   3\n",
       "19.0                   3\n",
       "32.0                   3\n",
       "39.0                   3\n",
       "36.0                   2\n",
       "26.0                   2\n",
       "28.0                   2\n",
       "30.0                   2\n",
       "25.0                   2\n",
       "49.0                   1\n",
       "42.0                   1\n",
       "41.0                   1\n",
       "33.0                   1\n",
       "35.0                   1\n",
       "34.0                   1\n",
       "31.0                   1\n",
       "29.0                   1\n",
       "27.0                   1\n",
       "38.0                   1\n",
       "Name: institute_service, dtype: int64"
      ]
     },
     "execution_count": 79,
     "metadata": {},
     "output_type": "execute_result"
    }
   ],
   "source": [
    "#extract the years of service from institute service column\n",
    "combined_updated['institute_service'].value_counts(dropna=False)\n"
   ]
  },
  {
   "cell_type": "code",
   "execution_count": 80,
   "metadata": {},
   "outputs": [
    {
     "data": {
      "text/plain": [
       "1.0     159\n",
       "3.0      83\n",
       "5.0      56\n",
       "7.0      34\n",
       "11.0     30\n",
       "0.0      20\n",
       "6.0      17\n",
       "20.0     17\n",
       "4.0      16\n",
       "9.0      14\n",
       "2.0      14\n",
       "8.0       8\n",
       "13.0      8\n",
       "15.0      7\n",
       "22.0      6\n",
       "14.0      6\n",
       "17.0      6\n",
       "12.0      6\n",
       "10.0      6\n",
       "18.0      5\n",
       "16.0      5\n",
       "23.0      4\n",
       "24.0      4\n",
       "21.0      3\n",
       "19.0      3\n",
       "32.0      3\n",
       "39.0      3\n",
       "30.0      2\n",
       "26.0      2\n",
       "36.0      2\n",
       "28.0      2\n",
       "25.0      2\n",
       "35.0      1\n",
       "38.0      1\n",
       "34.0      1\n",
       "33.0      1\n",
       "49.0      1\n",
       "41.0      1\n",
       "27.0      1\n",
       "42.0      1\n",
       "29.0      1\n",
       "31.0      1\n",
       "Name: institute_service_up, dtype: int64"
      ]
     },
     "execution_count": 80,
     "metadata": {},
     "output_type": "execute_result"
    }
   ],
   "source": [
    "# Extract the years of service and convert the type to float\n",
    "combined_updated['institute_service_up'] = combined_updated['institute_service'].astype('str').str.extract(r'(\\d+)')\n",
    "combined_updated['institute_service_up'] = combined_updated['institute_service_up'].astype('float')\n",
    "\n",
    "# Check the years extracted are correct\n",
    "combined_updated['institute_service_up'].value_counts()"
   ]
  },
  {
   "cell_type": "code",
   "execution_count": 81,
   "metadata": {},
   "outputs": [
    {
     "data": {
      "text/plain": [
       "New            193\n",
       "Experienced    172\n",
       "Veteran        136\n",
       "Established     62\n",
       "Name: service_cat, dtype: int64"
      ]
     },
     "execution_count": 81,
     "metadata": {},
     "output_type": "execute_result"
    }
   ],
   "source": [
    "# Convert years of service to categories\n",
    "def categorize_experience(years):\n",
    "    if years >= 11:\n",
    "        return \"Veteran\"\n",
    "    elif 7 <= years < 11:\n",
    "        return \"Established\"\n",
    "    elif 3 <= years < 7:\n",
    "        return \"Experienced\"\n",
    "    elif pd.isnull(years):\n",
    "        return np.nan\n",
    "    else:\n",
    "        return \"New\"\n",
    "    \n",
    "combined_updated['service_cat'] = combined_updated['institute_service_up'].apply(categorize_experience)\n",
    "\n",
    "# Quick check of the update\n",
    "combined_updated['service_cat'].value_counts()"
   ]
  },
  {
   "cell_type": "markdown",
   "metadata": {},
   "source": [
    "### Result Summary\n",
    "\n",
    "\n",
    "In the process of analyzing combined resignation data from **DETE and TAFE** institutes, several key enhancements were made to extract meaningful insights:\n",
    "\n",
    "**Institute Differentiation:** A new 'institute' column was introduced to differentiate between DETE and TAFE datasets. This contextual information proved crucial when merging the datasets for a holistic analysis.\n",
    "\n",
    "**Years of Service Extraction:** The 'institute_service' column was transformed to 'institute_service_up' using the .str.extract() method. This allowed the extraction of numerical years of service from the original range format.\n",
    "\n",
    "**Experience Categorization:** A function called categorize_experience() was implemented to categorize employees' years of service into distinct groups: \"New,\" \"Experienced,\" \"Established,\" and \"Veteran.\" This categorization provided valuable insights into the distribution of resignations across different experience levels.\n",
    "\n",
    "**Insightful Analysis:** By applying the categorization function, a new column called 'service_cat' was created, indicating each employee's experience group. This categorization enabled a more insightful examination of resignation trends based on employees' tenure.\n",
    "\n",
    "**Achievements:** The categorization and grouping of employee experience levels revealed a pattern in resignation distributions. A significant number of resignations were observed in the \"New\" and \"Experienced\" categories, shedding light on potential areas of focus for employee retention strategies. The newly categorized data empowers decision-makers to identify factors influencing resignations and tailor interventions based on specific experience groups.\n",
    "\n",
    "In summary, these enhancements allowed us to better understand the distribution of resignations based on employees' experience levels, facilitating informed decision-making and targeted interventions to address employee satisfaction and retention challenges.\n"
   ]
  },
  {
   "cell_type": "markdown",
   "metadata": {},
   "source": [
    "# Perform Initial Analysis"
   ]
  },
  {
   "cell_type": "code",
   "execution_count": 82,
   "metadata": {},
   "outputs": [
    {
     "data": {
      "text/plain": [
       "False    403\n",
       "True     240\n",
       "NaN        8\n",
       "Name: dissatisfied, dtype: int64"
      ]
     },
     "execution_count": 82,
     "metadata": {},
     "output_type": "execute_result"
    }
   ],
   "source": [
    "combined_updated['dissatisfied'].value_counts(dropna=False)"
   ]
  },
  {
   "cell_type": "code",
   "execution_count": 91,
   "metadata": {},
   "outputs": [],
   "source": [
    "combined_updated['dissatisfied']=combined_updated['dissatisfied'].fillna(False)"
   ]
  },
  {
   "cell_type": "code",
   "execution_count": 98,
   "metadata": {},
   "outputs": [
    {
     "data": {
      "text/plain": [
       "<matplotlib.axes._subplots.AxesSubplot at 0x7f3aa9d35a30>"
      ]
     },
     "execution_count": 98,
     "metadata": {},
     "output_type": "execute_result"
    },
    {
     "data": {
      "image/png": "[encoded data removed]",
      "text/plain": [
       "<Figure size 600x400 with 1 Axes>"
      ]
     },
     "metadata": {},
     "output_type": "display_data"
    }
   ],
   "source": [
    "#calculating the percentage of dissatisfied employees\n",
    "diss_emp = combined_updated.pivot_table(values = 'dissatisfied', index= 'service_cat')\n",
    "\n",
    "#create chart for dissastified employee\n",
    "%matplotlib inline\n",
    "diss_emp.plot(kind = 'bar')"
   ]
  },
  {
   "cell_type": "markdown",
   "metadata": {},
   "source": [
    "### Result Analysis\n",
    "\n",
    "\n",
    "**Employee Dissatisfaction Based on Years of Service** : In this section, we have analyze the prevalence of employee dissatisfaction based on different categories of years of service. By examining the dissatisfied column in the combined_updated DataFrame, we aim to gain insights into potential trends and patterns that may exist between an employee's years of service and their level of dissatisfaction.\n",
    "\n",
    "**Initial Assessment and Data Preparation:**\n",
    "We initiated the analysis by evaluating the distribution of values within the dissatisfied column using the value_counts() function. This allowed us to understand the proportions of True, False, and missing (NaN) values, which are essential for our analysis.\n",
    "\n",
    "Handling Missing Data:\n",
    "Before proceeding, we addressed any missing values in the dissatisfied column to ensure accurate results. Missing values were replaced with False using the .fillna() method, contributing to data consistency and reliability.\n",
    "\n",
    "Calculating Dissatisfaction Percentage:\n",
    "To gain a comprehensive perspective on the relationship between years of service and dissatisfaction, we computed the percentage of dissatisfied employees in different categories of service. We created a pivot table named diss_emp that aggregates the data based on the service_cat categories.\n",
    "\n",
    "Visualizing the Findings:\n",
    "In order to effectively communicate our findings, we utilized a bar chart to visualize the percentage of dissatisfied employees across the various categories of years of service. The resulting chart provides a clear visual representation of any potential patterns or differences in dissatisfaction levels.\n",
    "\n",
    "Significance and Insights:\n",
    "This analysis allows us to uncover insights into the potential correlation between years of service and employee dissatisfaction. By examining the bar chart, we can readily identify whether longer-tenured employees exhibit different levels of dissatisfaction compared to those with shorter tenures. These findings can serve as a basis for deeper investigations and strategic decisions aimed at enhancing employee satisfaction and retention.\n",
    "\n",
    "In summary, our analysis of employee dissatisfaction based on years of service provides an initial understanding of how this factor may influence workplace contentment. The visual representation of data and insights gained serve as a foundation for further exploration and actions geared towards improving overall employee well-being and organizational success.\n",
    "\n",
    "\n"
   ]
  },
  {
   "cell_type": "code",
   "execution_count": null,
   "metadata": {},
   "outputs": [],
   "source": []
  }
 ],
 "metadata": {
  "kernelspec": {
   "display_name": "Python 3",
   "language": "python",
   "name": "python3"
  },
  "language_info": {
   "codemirror_mode": {
    "name": "ipython",
    "version": 3
   },
   "file_extension": ".py",
   "mimetype": "text/x-python",
   "name": "python",
   "nbconvert_exporter": "python",
   "pygments_lexer": "ipython3",
   "version": "3.8.2"
  }
 },
 "nbformat": 4,
 "nbformat_minor": 2
}
